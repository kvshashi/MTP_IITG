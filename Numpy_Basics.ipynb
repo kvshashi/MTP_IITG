{
 "cells": [
  {
   "cell_type": "code",
   "execution_count": 106,
   "metadata": {},
   "outputs": [],
   "source": [
    "#Here we need to build the input for our model , it will be stacked matrices of volume fraction,Fx,Fy\n",
    "import numpy as np\n",
    "import pandas as pd\n",
    "import tensorflow as tf\n",
    "import matplotlib.pyplot as plt"
   ]
  },
  {
   "cell_type": "code",
   "execution_count": 3,
   "metadata": {},
   "outputs": [
    {
     "name": "stdout",
     "output_type": "stream",
     "text": [
      "The size of one dimensional array is: \n",
      "6\n",
      "The shape of one dimensional array is: \n",
      "(1, 6)\n"
     ]
    }
   ],
   "source": [
    "twoDarray = np.array([[1 , 2, 3, 4, 5, 6]])\n",
    "print(\"The size of one dimensional array is: \")\n",
    "print(twoDarray.size)\n",
    "print(\"The shape of one dimensional array is: \")\n",
    "print(twoDarray.shape)"
   ]
  },
  {
   "cell_type": "code",
   "execution_count": 7,
   "metadata": {},
   "outputs": [
    {
     "name": "stdout",
     "output_type": "stream",
     "text": [
      "The size of one dimensional array is: \n",
      "12\n",
      "The shape of one dimensional array is: \n",
      "(2, 6)\n"
     ]
    }
   ],
   "source": [
    "twoDarray = np.array([[1 , 2, 3, 4, 5, 6],[7,8,9,10,11,12]])\n",
    "print(\"The size of one dimensional array is: \")\n",
    "print(twoDarray.size)\n",
    "print(\"The shape of one dimensional array is: \")\n",
    "print(twoDarray.shape)"
   ]
  },
  {
   "cell_type": "code",
   "execution_count": 15,
   "metadata": {},
   "outputs": [
    {
     "name": "stdout",
     "output_type": "stream",
     "text": [
      "The size of one dimensional array is: \n",
      "24\n",
      "The shape of three dimensional array is: \n",
      "(2, 2, 6)\n"
     ]
    }
   ],
   "source": [
    "threeDarray = np.array([[[1 , 2, 3, 4, 5, 6],[7, 8, 9, 10, 11, 12]],[[13 , 14, 15, 16, 17, 18],[19, 20, 21, 22, 23, 24]]])\n",
    "print(\"The size of one dimensional array is: \")\n",
    "print(threeDarray.size)\n",
    "print(\"The shape of three dimensional array is: \")\n",
    "print(threeDarray.shape)"
   ]
  },
  {
   "cell_type": "code",
   "execution_count": 29,
   "metadata": {},
   "outputs": [
    {
     "name": "stdout",
     "output_type": "stream",
     "text": [
      "[[ 1  2  3  4  5  6]\n",
      " [ 7  8  9 10 11 12]]\n",
      "[[13 14 15 16 17 18]\n",
      " [19 20 21 22 23 24]]\n",
      "[1 2 3 4 5 6]\n",
      "[ 7  8  9 10 11 12]\n",
      "[13 14 15 16 17 18]\n",
      "[19 20 21 22 23 24]\n",
      "1\n"
     ]
    }
   ],
   "source": [
    "print(threeDarray[0])\n",
    "print(threeDarray[1])\n",
    "print(threeDarray[0][0])\n",
    "print(threeDarray[0][1])\n",
    "print(threeDarray[1][0])\n",
    "print(threeDarray[1][1])\n",
    "print(threeDarray[0][0][0])\n",
    "\n"
   ]
  },
  {
   "cell_type": "code",
   "execution_count": 31,
   "metadata": {},
   "outputs": [],
   "source": [
    "emp = np.empty([3,80,80])"
   ]
  },
  {
   "cell_type": "code",
   "execution_count": 32,
   "metadata": {},
   "outputs": [
    {
     "data": {
      "text/plain": [
       "(3, 80, 80)"
      ]
     },
     "execution_count": 32,
     "metadata": {},
     "output_type": "execute_result"
    }
   ],
   "source": [
    "emp.shape"
   ]
  },
  {
   "cell_type": "code",
   "execution_count": 5,
   "metadata": {},
   "outputs": [],
   "source": [
    "# #reading images from the folder\n",
    "# from PIL import Image\n",
    "# import glob\n",
    "# image_list = []\n",
    "# for filename in glob.glob('img/*.png'):\n",
    "#     im = Image.open(filename)\n",
    "#     image_list.append(im)"
   ]
  },
  {
   "cell_type": "code",
   "execution_count": 9,
   "metadata": {},
   "outputs": [
    {
     "data": {
      "text/plain": [
       "[<PIL.PngImagePlugin.PngImageFile image mode=RGB size=875x656 at 0x164DC1D7BB0>,\n",
       " <PIL.PngImagePlugin.PngImageFile image mode=RGB size=875x656 at 0x164DC1D7DC0>,\n",
       " <PIL.PngImagePlugin.PngImageFile image mode=RGB size=875x656 at 0x164EC3E82E0>,\n",
       " <PIL.PngImagePlugin.PngImageFile image mode=RGB size=875x656 at 0x164EC3E8340>,\n",
       " <PIL.PngImagePlugin.PngImageFile image mode=RGB size=875x656 at 0x164EC3E83A0>,\n",
       " <PIL.PngImagePlugin.PngImageFile image mode=RGB size=875x656 at 0x164EC3E8400>,\n",
       " <PIL.PngImagePlugin.PngImageFile image mode=RGB size=875x656 at 0x164EC3E8460>,\n",
       " <PIL.PngImagePlugin.PngImageFile image mode=RGB size=875x656 at 0x164EC3E84C0>,\n",
       " <PIL.PngImagePlugin.PngImageFile image mode=RGB size=875x656 at 0x164EC3E8520>,\n",
       " <PIL.PngImagePlugin.PngImageFile image mode=RGB size=875x656 at 0x164EC3E8580>,\n",
       " <PIL.PngImagePlugin.PngImageFile image mode=RGB size=875x656 at 0x164EC3E85E0>,\n",
       " <PIL.PngImagePlugin.PngImageFile image mode=RGB size=875x656 at 0x164EC3E8640>,\n",
       " <PIL.PngImagePlugin.PngImageFile image mode=RGB size=875x656 at 0x164EC3E86A0>,\n",
       " <PIL.PngImagePlugin.PngImageFile image mode=RGB size=875x656 at 0x164EC3E8700>,\n",
       " <PIL.PngImagePlugin.PngImageFile image mode=RGB size=875x656 at 0x164EC3E8760>,\n",
       " <PIL.PngImagePlugin.PngImageFile image mode=RGB size=875x656 at 0x164EC3E87C0>,\n",
       " <PIL.PngImagePlugin.PngImageFile image mode=RGB size=875x656 at 0x164EC3E8820>,\n",
       " <PIL.PngImagePlugin.PngImageFile image mode=RGB size=875x656 at 0x164EC3E8880>,\n",
       " <PIL.PngImagePlugin.PngImageFile image mode=RGB size=875x656 at 0x164EC3E88E0>,\n",
       " <PIL.PngImagePlugin.PngImageFile image mode=RGB size=875x656 at 0x164EC3E8940>,\n",
       " <PIL.PngImagePlugin.PngImageFile image mode=RGB size=875x656 at 0x164EC3E89A0>,\n",
       " <PIL.PngImagePlugin.PngImageFile image mode=RGB size=875x656 at 0x164EC3E8A00>,\n",
       " <PIL.PngImagePlugin.PngImageFile image mode=RGB size=875x656 at 0x164EC3E8A60>,\n",
       " <PIL.PngImagePlugin.PngImageFile image mode=RGB size=875x656 at 0x164EC3E8AC0>,\n",
       " <PIL.PngImagePlugin.PngImageFile image mode=RGB size=875x656 at 0x164EC3E8B20>,\n",
       " <PIL.PngImagePlugin.PngImageFile image mode=RGB size=875x656 at 0x164EC3E8B80>,\n",
       " <PIL.PngImagePlugin.PngImageFile image mode=RGB size=875x656 at 0x164EC3E8BE0>,\n",
       " <PIL.PngImagePlugin.PngImageFile image mode=RGB size=875x656 at 0x164EC3E8C40>,\n",
       " <PIL.PngImagePlugin.PngImageFile image mode=RGB size=875x656 at 0x164EC3E8CA0>,\n",
       " <PIL.PngImagePlugin.PngImageFile image mode=RGB size=875x656 at 0x164EC3E8D00>,\n",
       " <PIL.PngImagePlugin.PngImageFile image mode=RGB size=875x656 at 0x164EC3E8D60>,\n",
       " <PIL.PngImagePlugin.PngImageFile image mode=RGB size=875x656 at 0x164EC3E8DC0>,\n",
       " <PIL.PngImagePlugin.PngImageFile image mode=RGB size=875x656 at 0x164EC3E8E20>,\n",
       " <PIL.PngImagePlugin.PngImageFile image mode=RGB size=875x656 at 0x164EC3E8E80>,\n",
       " <PIL.PngImagePlugin.PngImageFile image mode=RGB size=875x656 at 0x164EC3E8EE0>,\n",
       " <PIL.PngImagePlugin.PngImageFile image mode=RGB size=875x656 at 0x164EC3E8F40>,\n",
       " <PIL.PngImagePlugin.PngImageFile image mode=RGB size=875x656 at 0x164EC3E8FA0>,\n",
       " <PIL.PngImagePlugin.PngImageFile image mode=RGB size=875x656 at 0x164EC3E81C0>,\n",
       " <PIL.PngImagePlugin.PngImageFile image mode=RGB size=875x656 at 0x164EC3E8280>,\n",
       " <PIL.PngImagePlugin.PngImageFile image mode=RGB size=875x656 at 0x164EC381100>,\n",
       " <PIL.PngImagePlugin.PngImageFile image mode=RGB size=875x656 at 0x164EC381160>,\n",
       " <PIL.PngImagePlugin.PngImageFile image mode=RGB size=875x656 at 0x164EC3811C0>,\n",
       " <PIL.PngImagePlugin.PngImageFile image mode=RGB size=875x656 at 0x164EC381220>,\n",
       " <PIL.PngImagePlugin.PngImageFile image mode=RGB size=875x656 at 0x164EC381280>,\n",
       " <PIL.PngImagePlugin.PngImageFile image mode=RGB size=875x656 at 0x164EC3812E0>,\n",
       " <PIL.PngImagePlugin.PngImageFile image mode=RGB size=875x656 at 0x164EC381340>,\n",
       " <PIL.PngImagePlugin.PngImageFile image mode=RGB size=875x656 at 0x164EC3813A0>,\n",
       " <PIL.PngImagePlugin.PngImageFile image mode=RGB size=875x656 at 0x164EC381400>,\n",
       " <PIL.PngImagePlugin.PngImageFile image mode=RGB size=875x656 at 0x164EC381460>,\n",
       " <PIL.PngImagePlugin.PngImageFile image mode=RGB size=875x656 at 0x164EC3814C0>,\n",
       " <PIL.PngImagePlugin.PngImageFile image mode=RGB size=875x656 at 0x164EC381520>,\n",
       " <PIL.PngImagePlugin.PngImageFile image mode=RGB size=875x656 at 0x164EC381580>,\n",
       " <PIL.PngImagePlugin.PngImageFile image mode=RGB size=875x656 at 0x164EC3815E0>,\n",
       " <PIL.PngImagePlugin.PngImageFile image mode=RGB size=875x656 at 0x164EC381640>,\n",
       " <PIL.PngImagePlugin.PngImageFile image mode=RGB size=875x656 at 0x164EC3816A0>,\n",
       " <PIL.PngImagePlugin.PngImageFile image mode=RGB size=875x656 at 0x164EC381700>,\n",
       " <PIL.PngImagePlugin.PngImageFile image mode=RGB size=875x656 at 0x164EC381760>,\n",
       " <PIL.PngImagePlugin.PngImageFile image mode=RGB size=875x656 at 0x164EC3817C0>,\n",
       " <PIL.PngImagePlugin.PngImageFile image mode=RGB size=875x656 at 0x164EC381820>,\n",
       " <PIL.PngImagePlugin.PngImageFile image mode=RGB size=875x656 at 0x164EC381880>,\n",
       " <PIL.PngImagePlugin.PngImageFile image mode=RGB size=875x656 at 0x164EC3818E0>,\n",
       " <PIL.PngImagePlugin.PngImageFile image mode=RGB size=875x656 at 0x164EC381940>,\n",
       " <PIL.PngImagePlugin.PngImageFile image mode=RGB size=875x656 at 0x164EC3819A0>,\n",
       " <PIL.PngImagePlugin.PngImageFile image mode=RGB size=875x656 at 0x164EC381A00>,\n",
       " <PIL.PngImagePlugin.PngImageFile image mode=RGB size=875x656 at 0x164EC381A60>,\n",
       " <PIL.PngImagePlugin.PngImageFile image mode=RGB size=875x656 at 0x164EC381AC0>,\n",
       " <PIL.PngImagePlugin.PngImageFile image mode=RGB size=875x656 at 0x164EC381B20>,\n",
       " <PIL.PngImagePlugin.PngImageFile image mode=RGB size=875x656 at 0x164EC381B80>,\n",
       " <PIL.PngImagePlugin.PngImageFile image mode=RGB size=875x656 at 0x164EC381BE0>,\n",
       " <PIL.PngImagePlugin.PngImageFile image mode=RGB size=875x656 at 0x164EC381C40>,\n",
       " <PIL.PngImagePlugin.PngImageFile image mode=RGB size=875x656 at 0x164EC381CA0>,\n",
       " <PIL.PngImagePlugin.PngImageFile image mode=RGB size=875x656 at 0x164EC381D00>,\n",
       " <PIL.PngImagePlugin.PngImageFile image mode=RGB size=875x656 at 0x164EC381D60>,\n",
       " <PIL.PngImagePlugin.PngImageFile image mode=RGB size=875x656 at 0x164EC381DC0>,\n",
       " <PIL.PngImagePlugin.PngImageFile image mode=RGB size=875x656 at 0x164EC381E20>,\n",
       " <PIL.PngImagePlugin.PngImageFile image mode=RGB size=875x656 at 0x164EC381E80>,\n",
       " <PIL.PngImagePlugin.PngImageFile image mode=RGB size=875x656 at 0x164EC381EE0>,\n",
       " <PIL.PngImagePlugin.PngImageFile image mode=RGB size=875x656 at 0x164EC381F40>,\n",
       " <PIL.PngImagePlugin.PngImageFile image mode=RGB size=875x656 at 0x164EC381FA0>,\n",
       " <PIL.PngImagePlugin.PngImageFile image mode=RGB size=875x656 at 0x164EC3810A0>,\n",
       " <PIL.PngImagePlugin.PngImageFile image mode=RGB size=875x656 at 0x164EC381070>,\n",
       " <PIL.PngImagePlugin.PngImageFile image mode=RGB size=875x656 at 0x164EC39B100>,\n",
       " <PIL.PngImagePlugin.PngImageFile image mode=RGB size=875x656 at 0x164EC39B160>,\n",
       " <PIL.PngImagePlugin.PngImageFile image mode=RGB size=875x656 at 0x164EC39B1C0>,\n",
       " <PIL.PngImagePlugin.PngImageFile image mode=RGB size=875x656 at 0x164EC39B220>,\n",
       " <PIL.PngImagePlugin.PngImageFile image mode=RGB size=875x656 at 0x164EC39B280>,\n",
       " <PIL.PngImagePlugin.PngImageFile image mode=RGB size=875x656 at 0x164EC39B2E0>,\n",
       " <PIL.PngImagePlugin.PngImageFile image mode=RGB size=875x656 at 0x164EC39B340>,\n",
       " <PIL.PngImagePlugin.PngImageFile image mode=RGB size=875x656 at 0x164EC39B3A0>,\n",
       " <PIL.PngImagePlugin.PngImageFile image mode=RGB size=875x656 at 0x164EC39B400>,\n",
       " <PIL.PngImagePlugin.PngImageFile image mode=RGB size=875x656 at 0x164EC39B460>,\n",
       " <PIL.PngImagePlugin.PngImageFile image mode=RGB size=875x656 at 0x164EC39B4C0>,\n",
       " <PIL.PngImagePlugin.PngImageFile image mode=RGB size=875x656 at 0x164EC39B520>,\n",
       " <PIL.PngImagePlugin.PngImageFile image mode=RGB size=875x656 at 0x164EC39B580>,\n",
       " <PIL.PngImagePlugin.PngImageFile image mode=RGB size=875x656 at 0x164EC39B5E0>,\n",
       " <PIL.PngImagePlugin.PngImageFile image mode=RGB size=875x656 at 0x164EC39B640>,\n",
       " <PIL.PngImagePlugin.PngImageFile image mode=RGB size=875x656 at 0x164EC39B6A0>,\n",
       " <PIL.PngImagePlugin.PngImageFile image mode=RGB size=875x656 at 0x164EC39B700>,\n",
       " <PIL.PngImagePlugin.PngImageFile image mode=RGB size=875x656 at 0x164EC39B760>,\n",
       " <PIL.PngImagePlugin.PngImageFile image mode=RGB size=875x656 at 0x164EC39B7C0>,\n",
       " <PIL.PngImagePlugin.PngImageFile image mode=RGB size=875x656 at 0x164EC39B820>,\n",
       " <PIL.PngImagePlugin.PngImageFile image mode=RGB size=875x656 at 0x164EC39B880>,\n",
       " <PIL.PngImagePlugin.PngImageFile image mode=RGB size=875x656 at 0x164EC39B8E0>,\n",
       " <PIL.PngImagePlugin.PngImageFile image mode=RGB size=875x656 at 0x164EC39B940>,\n",
       " <PIL.PngImagePlugin.PngImageFile image mode=RGB size=875x656 at 0x164EC39B9A0>,\n",
       " <PIL.PngImagePlugin.PngImageFile image mode=RGB size=875x656 at 0x164EC39BA00>,\n",
       " <PIL.PngImagePlugin.PngImageFile image mode=RGB size=875x656 at 0x164EC39BA60>,\n",
       " <PIL.PngImagePlugin.PngImageFile image mode=RGB size=875x656 at 0x164EC39BAC0>,\n",
       " <PIL.PngImagePlugin.PngImageFile image mode=RGB size=875x656 at 0x164EC39BB20>,\n",
       " <PIL.PngImagePlugin.PngImageFile image mode=RGB size=875x656 at 0x164EC39BB80>,\n",
       " <PIL.PngImagePlugin.PngImageFile image mode=RGB size=875x656 at 0x164EC39BBE0>,\n",
       " <PIL.PngImagePlugin.PngImageFile image mode=RGB size=875x656 at 0x164EC39BC40>,\n",
       " <PIL.PngImagePlugin.PngImageFile image mode=RGB size=875x656 at 0x164EC39BCA0>,\n",
       " <PIL.PngImagePlugin.PngImageFile image mode=RGB size=875x656 at 0x164EC39BD00>,\n",
       " <PIL.PngImagePlugin.PngImageFile image mode=RGB size=875x656 at 0x164EC39BD60>,\n",
       " <PIL.PngImagePlugin.PngImageFile image mode=RGB size=875x656 at 0x164EC39BDC0>,\n",
       " <PIL.PngImagePlugin.PngImageFile image mode=RGB size=875x656 at 0x164EC39BE20>,\n",
       " <PIL.PngImagePlugin.PngImageFile image mode=RGB size=875x656 at 0x164EC39BE80>,\n",
       " <PIL.PngImagePlugin.PngImageFile image mode=RGB size=875x656 at 0x164EC39BEE0>,\n",
       " <PIL.PngImagePlugin.PngImageFile image mode=RGB size=875x656 at 0x164EC39BF40>]"
      ]
     },
     "execution_count": 9,
     "metadata": {},
     "output_type": "execute_result"
    }
   ],
   "source": [
    "# image_list"
   ]
  },
  {
   "cell_type": "code",
   "execution_count": 12,
   "metadata": {},
   "outputs": [],
   "source": [
    "from skimage.io import imread_collection\n",
    "\n",
    "#your path \n",
    "col_dir = 'img/*.png'\n",
    "\n",
    "#creating a collection with the available images\n",
    "col = imread_collection(col_dir)"
   ]
  },
  {
   "cell_type": "code",
   "execution_count": 16,
   "metadata": {},
   "outputs": [
    {
     "data": {
      "text/plain": [
       "skimage.io.collection.ImageCollection"
      ]
     },
     "execution_count": 16,
     "metadata": {},
     "output_type": "execute_result"
    }
   ],
   "source": [
    "type(col)"
   ]
  },
  {
   "cell_type": "code",
   "execution_count": 118,
   "metadata": {},
   "outputs": [
    {
     "name": "stdout",
     "output_type": "stream",
     "text": [
      "img\\01.png\n"
     ]
    }
   ],
   "source": [
    "print(col.files[0])"
   ]
  },
  {
   "cell_type": "code",
   "execution_count": 55,
   "metadata": {},
   "outputs": [
    {
     "name": "stdout",
     "output_type": "stream",
     "text": [
      "img\\01.png\n"
     ]
    }
   ],
   "source": [
    "print(col.files[0])"
   ]
  },
  {
   "cell_type": "code",
   "execution_count": 57,
   "metadata": {},
   "outputs": [
    {
     "name": "stdout",
     "output_type": "stream",
     "text": [
      "(656, 875, 3)\n"
     ]
    }
   ],
   "source": [
    "print(col[0].shape)"
   ]
  },
  {
   "cell_type": "code",
   "execution_count": 70,
   "metadata": {},
   "outputs": [],
   "source": [
    "import skimage\n",
    "from skimage import io, transform\n",
    "\n",
    "Image_path = 'D:\\MTP_P1\\W10\\Trial_2D_TopDeep\\Excel_data\\img'\n",
    "coll = skimage.io.ImageCollection(Image_path + '/*.png')\n",
    "\n",
    "\n",
    "\n",
    "# You need to indent the foor loop used in your code, the statements inside any loops or if-else conditions must be indented in python.Its a syntax issue.\n",
    "\n",
    "for i in range(len(coll)):\n",
    "    image = skimage.transform.resize(coll[i], [300,300])"
   ]
  },
  {
   "cell_type": "code",
   "execution_count": 88,
   "metadata": {},
   "outputs": [
    {
     "name": "stdout",
     "output_type": "stream",
     "text": [
      "Image Size Before Rescaling :  (656, 875, 3)\n",
      "Image Size After Rescaling :  (50, 100, 3)\n",
      "15000\n",
      "1722000\n"
     ]
    }
   ],
   "source": [
    "coll_resized = transform.resize(coll[0], output_shape=(50,100))\n",
    "\n",
    "print(\"Image Size Before Rescaling : \", coll[0].shape)\n",
    "print(\"Image Size After Rescaling : \", coll_resized.shape)\n",
    "print(coll_resized.size)\n",
    "print(coll[0].size)"
   ]
  },
  {
   "cell_type": "code",
   "execution_count": 89,
   "metadata": {},
   "outputs": [
    {
     "data": {
      "text/plain": [
       "<matplotlib.image.AxesImage at 0x23d4cb73670>"
      ]
     },
     "execution_count": 89,
     "metadata": {},
     "output_type": "execute_result"
    },
    {
     "data": {
      "image/png": "[encoded data removed]",
      "text/plain": [
       "<Figure size 432x288 with 1 Axes>"
      ]
     },
     "metadata": {
      "needs_background": "light"
     },
     "output_type": "display_data"
    }
   ],
   "source": [
    "plt.imshow(coll_resized)"
   ]
  },
  {
   "cell_type": "code",
   "execution_count": 98,
   "metadata": {},
   "outputs": [
    {
     "ename": "TypeError",
     "evalue": "'ImageCollection' object does not support item assignment",
     "output_type": "error",
     "traceback": [
      "\u001b[1;31m---------------------------------------------------------------------------\u001b[0m",
      "\u001b[1;31mTypeError\u001b[0m                                 Traceback (most recent call last)",
      "\u001b[1;32md:\\MTP_P1\\W10\\Trial_2D_TopDeep\\Excel_data\\Trial.ipynb Cell 18\u001b[0m in \u001b[0;36m<cell line: 1>\u001b[1;34m()\u001b[0m\n\u001b[1;32m----> <a href='vscode-notebook-cell:/d%3A/MTP_P1/W10/Trial_2D_TopDeep/Excel_data/Trial.ipynb#X43sZmlsZQ%3D%3D?line=0'>1</a>\u001b[0m coll[\u001b[39m1\u001b[39m]\u001b[39m=\u001b[39mtransform\u001b[39m.\u001b[39mresize(coll[\u001b[39m1\u001b[39m], output_shape\u001b[39m=\u001b[39m(\u001b[39m50\u001b[39m,\u001b[39m100\u001b[39m))\n",
      "\u001b[1;31mTypeError\u001b[0m: 'ImageCollection' object does not support item assignment"
     ]
    }
   ],
   "source": [
    "coll[1]=transform.resize(coll[1], output_shape=(50,100))"
   ]
  },
  {
   "cell_type": "code",
   "execution_count": 99,
   "metadata": {},
   "outputs": [],
   "source": [
    "img_list = []\n",
    "for i in range(len(coll)):\n",
    "    img = transform.resize(coll[i], output_shape=(50,100))\n",
    "    img_list.append(img)\n",
    "\n"
   ]
  },
  {
   "cell_type": "code",
   "execution_count": 111,
   "metadata": {},
   "outputs": [],
   "source": [
    "img_arr = np.empty((120,50,100,3))\n",
    "for i in range(120):\n",
    "    img_arr[i] = np.asarray(img_list[i])"
   ]
  },
  {
   "cell_type": "code",
   "execution_count": 112,
   "metadata": {},
   "outputs": [
    {
     "data": {
      "text/plain": [
       "(120, 50, 100, 3)"
      ]
     },
     "execution_count": 112,
     "metadata": {},
     "output_type": "execute_result"
    }
   ],
   "source": [
    "img_arr.shape"
   ]
  },
  {
   "cell_type": "code",
   "execution_count": 117,
   "metadata": {},
   "outputs": [
    {
     "data": {
      "text/plain": [
       "<matplotlib.image.AxesImage at 0x23d4cec0400>"
      ]
     },
     "execution_count": 117,
     "metadata": {},
     "output_type": "execute_result"
    },
    {
     "data": {
      "image/png": "[encoded data removed]",
      "text/plain": [
       "<Figure size 432x288 with 1 Axes>"
      ]
     },
     "metadata": {
      "needs_background": "light"
     },
     "output_type": "display_data"
    }
   ],
   "source": [
    "plt.imshow(img_arr[99])"
   ]
  },
  {
   "cell_type": "code",
   "execution_count": 28,
   "metadata": {},
   "outputs": [
    {
     "data": {
      "text/plain": [
       "<matplotlib.image.AxesImage at 0x164eb4018e0>"
      ]
     },
     "execution_count": 28,
     "metadata": {},
     "output_type": "execute_result"
    },
    {
     "data": {
      "image/png": "[encoded data removed]",
      "text/plain": [
       "<Figure size 432x288 with 1 Axes>"
      ]
     },
     "metadata": {
      "needs_background": "light"
     },
     "output_type": "display_data"
    }
   ],
   "source": [
    "plt.imshow(col[119])"
   ]
  },
  {
   "cell_type": "code",
   "execution_count": 32,
   "metadata": {},
   "outputs": [
    {
     "name": "stdout",
     "output_type": "stream",
     "text": [
      "(875, 656)\n",
      "(300, 200)\n"
     ]
    }
   ],
   "source": [
    "image = Image.open('img/119.png')\n",
    "new_image = image.resize((300, 200))\n",
    "new_image.save('image_400.jpg')\n",
    "\n",
    "print(image.size) # Output: (1920, 1280)\n",
    "print(new_image.size) # Output: (400, 400)\n"
   ]
  },
  {
   "cell_type": "code",
   "execution_count": 29,
   "metadata": {},
   "outputs": [],
   "source": [
    "\n",
    "# import the modules\n",
    "import os\n",
    "from os import listdir\n",
    "img_name = []\n",
    "# get the path/directory\n",
    "folder_dir = \"D:\\MTP_P1\\W10\\Trial_2D_TopDeep\\Excel_data\\img\"\n",
    "for images in os.listdir(folder_dir):\n",
    " \n",
    "    # check if the image ends with png\n",
    "    if (images.endswith(\".png\")):\n",
    "        img_name.append(images)\n",
    "\n",
    "\n"
   ]
  },
  {
   "cell_type": "code",
   "execution_count": 30,
   "metadata": {},
   "outputs": [],
   "source": [
    "img_name.sort()"
   ]
  },
  {
   "cell_type": "code",
   "execution_count": 35,
   "metadata": {},
   "outputs": [
    {
     "data": {
      "text/plain": [
       "['img01.png',\n",
       " 'img02.png',\n",
       " 'img03.png',\n",
       " 'img04.png',\n",
       " 'img05.png',\n",
       " 'img06.png',\n",
       " 'img07.png',\n",
       " 'img08.png',\n",
       " 'img09.png',\n",
       " 'img10.png',\n",
       " 'img100.png',\n",
       " 'img101.png',\n",
       " 'img102.png',\n",
       " 'img103.png',\n",
       " 'img104.png',\n",
       " 'img105.png',\n",
       " 'img106.png',\n",
       " 'img107.png',\n",
       " 'img108.png',\n",
       " 'img109.png',\n",
       " 'img11.png',\n",
       " 'img110.png',\n",
       " 'img111.png',\n",
       " 'img112.png',\n",
       " 'img113.png',\n",
       " 'img114.png',\n",
       " 'img115.png',\n",
       " 'img116.png',\n",
       " 'img117.png',\n",
       " 'img118.png',\n",
       " 'img119.png',\n",
       " 'img12.png',\n",
       " 'img120.png',\n",
       " 'img13.png',\n",
       " 'img14.png',\n",
       " 'img15.png',\n",
       " 'img16.png',\n",
       " 'img17.png',\n",
       " 'img18.png',\n",
       " 'img19.png',\n",
       " 'img20.png',\n",
       " 'img21.png',\n",
       " 'img22.png',\n",
       " 'img23.png',\n",
       " 'img24.png',\n",
       " 'img25.png',\n",
       " 'img26.png',\n",
       " 'img27.png',\n",
       " 'img28.png',\n",
       " 'img29.png',\n",
       " 'img30.png',\n",
       " 'img31.png',\n",
       " 'img32.png',\n",
       " 'img33.png',\n",
       " 'img34.png',\n",
       " 'img35.png',\n",
       " 'img36.png',\n",
       " 'img37.png',\n",
       " 'img38.png',\n",
       " 'img39.png',\n",
       " 'img40.png',\n",
       " 'img41.png',\n",
       " 'img42.png',\n",
       " 'img43.png',\n",
       " 'img44.png',\n",
       " 'img45.png',\n",
       " 'img46.png',\n",
       " 'img47.png',\n",
       " 'img48.png',\n",
       " 'img49.png',\n",
       " 'img50.png',\n",
       " 'img51.png',\n",
       " 'img52.png',\n",
       " 'img53.png',\n",
       " 'img54.png',\n",
       " 'img55.png',\n",
       " 'img56.png',\n",
       " 'img57.png',\n",
       " 'img58.png',\n",
       " 'img59.png',\n",
       " 'img60.png',\n",
       " 'img61.png',\n",
       " 'img62.png',\n",
       " 'img63.png',\n",
       " 'img64.png',\n",
       " 'img65.png',\n",
       " 'img66.png',\n",
       " 'img67.png',\n",
       " 'img68.png',\n",
       " 'img69.png',\n",
       " 'img70.png',\n",
       " 'img71.png',\n",
       " 'img72.png',\n",
       " 'img73.png',\n",
       " 'img74.png',\n",
       " 'img75.png',\n",
       " 'img76.png',\n",
       " 'img77.png',\n",
       " 'img78.png',\n",
       " 'img79.png',\n",
       " 'img80.png',\n",
       " 'img81.png',\n",
       " 'img82.png',\n",
       " 'img83.png',\n",
       " 'img84.png',\n",
       " 'img85.png',\n",
       " 'img86.png',\n",
       " 'img87.png',\n",
       " 'img88.png',\n",
       " 'img89.png',\n",
       " 'img90.png',\n",
       " 'img91.png',\n",
       " 'img92.png',\n",
       " 'img93.png',\n",
       " 'img94.png',\n",
       " 'img95.png',\n",
       " 'img96.png',\n",
       " 'img97.png',\n",
       " 'img98.png',\n",
       " 'img99.png']"
      ]
     },
     "execution_count": 35,
     "metadata": {},
     "output_type": "execute_result"
    }
   ],
   "source": [
    "img_name"
   ]
  },
  {
   "cell_type": "code",
   "execution_count": 42,
   "metadata": {},
   "outputs": [],
   "source": [
    "img_name. sort(key=lambda f: int(''. join(filter(str. isdigit, f))))"
   ]
  },
  {
   "cell_type": "code",
   "execution_count": 43,
   "metadata": {},
   "outputs": [
    {
     "data": {
      "text/plain": [
       "['img01.png',\n",
       " 'img02.png',\n",
       " 'img03.png',\n",
       " 'img04.png',\n",
       " 'img05.png',\n",
       " 'img06.png',\n",
       " 'img07.png',\n",
       " 'img08.png',\n",
       " 'img09.png',\n",
       " 'img10.png',\n",
       " 'img11.png',\n",
       " 'img12.png',\n",
       " 'img13.png',\n",
       " 'img14.png',\n",
       " 'img15.png',\n",
       " 'img16.png',\n",
       " 'img17.png',\n",
       " 'img18.png',\n",
       " 'img19.png',\n",
       " 'img20.png',\n",
       " 'img21.png',\n",
       " 'img22.png',\n",
       " 'img23.png',\n",
       " 'img24.png',\n",
       " 'img25.png',\n",
       " 'img26.png',\n",
       " 'img27.png',\n",
       " 'img28.png',\n",
       " 'img29.png',\n",
       " 'img30.png',\n",
       " 'img31.png',\n",
       " 'img32.png',\n",
       " 'img33.png',\n",
       " 'img34.png',\n",
       " 'img35.png',\n",
       " 'img36.png',\n",
       " 'img37.png',\n",
       " 'img38.png',\n",
       " 'img39.png',\n",
       " 'img40.png',\n",
       " 'img41.png',\n",
       " 'img42.png',\n",
       " 'img43.png',\n",
       " 'img44.png',\n",
       " 'img45.png',\n",
       " 'img46.png',\n",
       " 'img47.png',\n",
       " 'img48.png',\n",
       " 'img49.png',\n",
       " 'img50.png',\n",
       " 'img51.png',\n",
       " 'img52.png',\n",
       " 'img53.png',\n",
       " 'img54.png',\n",
       " 'img55.png',\n",
       " 'img56.png',\n",
       " 'img57.png',\n",
       " 'img58.png',\n",
       " 'img59.png',\n",
       " 'img60.png',\n",
       " 'img61.png',\n",
       " 'img62.png',\n",
       " 'img63.png',\n",
       " 'img64.png',\n",
       " 'img65.png',\n",
       " 'img66.png',\n",
       " 'img67.png',\n",
       " 'img68.png',\n",
       " 'img69.png',\n",
       " 'img70.png',\n",
       " 'img71.png',\n",
       " 'img72.png',\n",
       " 'img73.png',\n",
       " 'img74.png',\n",
       " 'img75.png',\n",
       " 'img76.png',\n",
       " 'img77.png',\n",
       " 'img78.png',\n",
       " 'img79.png',\n",
       " 'img80.png',\n",
       " 'img81.png',\n",
       " 'img82.png',\n",
       " 'img83.png',\n",
       " 'img84.png',\n",
       " 'img85.png',\n",
       " 'img86.png',\n",
       " 'img87.png',\n",
       " 'img88.png',\n",
       " 'img89.png',\n",
       " 'img90.png',\n",
       " 'img91.png',\n",
       " 'img92.png',\n",
       " 'img93.png',\n",
       " 'img94.png',\n",
       " 'img95.png',\n",
       " 'img96.png',\n",
       " 'img97.png',\n",
       " 'img98.png',\n",
       " 'img99.png',\n",
       " 'img100.png',\n",
       " 'img101.png',\n",
       " 'img102.png',\n",
       " 'img103.png',\n",
       " 'img104.png',\n",
       " 'img105.png',\n",
       " 'img106.png',\n",
       " 'img107.png',\n",
       " 'img108.png',\n",
       " 'img109.png',\n",
       " 'img110.png',\n",
       " 'img111.png',\n",
       " 'img112.png',\n",
       " 'img113.png',\n",
       " 'img114.png',\n",
       " 'img115.png',\n",
       " 'img116.png',\n",
       " 'img117.png',\n",
       " 'img118.png',\n",
       " 'img119.png',\n",
       " 'img120.png']"
      ]
     },
     "execution_count": 43,
     "metadata": {},
     "output_type": "execute_result"
    }
   ],
   "source": [
    "img_name"
   ]
  },
  {
   "cell_type": "code",
   "execution_count": 46,
   "metadata": {},
   "outputs": [
    {
     "ename": "TypeError",
     "evalue": "Image data of dtype <U13 cannot be converted to float",
     "output_type": "error",
     "traceback": [
      "\u001b[1;31m---------------------------------------------------------------------------\u001b[0m",
      "\u001b[1;31mTypeError\u001b[0m                                 Traceback (most recent call last)",
      "\u001b[1;32md:\\MTP_P1\\W10\\Trial_2D_TopDeep\\Excel_data\\Trial.ipynb Cell 21\u001b[0m in \u001b[0;36m<cell line: 1>\u001b[1;34m()\u001b[0m\n\u001b[1;32m----> <a href='vscode-notebook-cell:/d%3A/MTP_P1/W10/Trial_2D_TopDeep/Excel_data/Trial.ipynb#X34sZmlsZQ%3D%3D?line=0'>1</a>\u001b[0m plt\u001b[39m.\u001b[39;49mimshow(\u001b[39m\"\u001b[39;49m\u001b[39mimg/img01.png\u001b[39;49m\u001b[39m\"\u001b[39;49m)\n",
      "File \u001b[1;32md:\\Anaconda\\lib\\site-packages\\matplotlib\\_api\\deprecation.py:456\u001b[0m, in \u001b[0;36mmake_keyword_only.<locals>.wrapper\u001b[1;34m(*args, **kwargs)\u001b[0m\n\u001b[0;32m    450\u001b[0m \u001b[39mif\u001b[39;00m \u001b[39mlen\u001b[39m(args) \u001b[39m>\u001b[39m name_idx:\n\u001b[0;32m    451\u001b[0m     warn_deprecated(\n\u001b[0;32m    452\u001b[0m         since, message\u001b[39m=\u001b[39m\u001b[39m\"\u001b[39m\u001b[39mPassing the \u001b[39m\u001b[39m%(name)s\u001b[39;00m\u001b[39m \u001b[39m\u001b[39m%(obj_type)s\u001b[39;00m\u001b[39m \u001b[39m\u001b[39m\"\u001b[39m\n\u001b[0;32m    453\u001b[0m         \u001b[39m\"\u001b[39m\u001b[39mpositionally is deprecated since Matplotlib \u001b[39m\u001b[39m%(since)s\u001b[39;00m\u001b[39m; the \u001b[39m\u001b[39m\"\u001b[39m\n\u001b[0;32m    454\u001b[0m         \u001b[39m\"\u001b[39m\u001b[39mparameter will become keyword-only \u001b[39m\u001b[39m%(removal)s\u001b[39;00m\u001b[39m.\u001b[39m\u001b[39m\"\u001b[39m,\n\u001b[0;32m    455\u001b[0m         name\u001b[39m=\u001b[39mname, obj_type\u001b[39m=\u001b[39m\u001b[39mf\u001b[39m\u001b[39m\"\u001b[39m\u001b[39mparameter of \u001b[39m\u001b[39m{\u001b[39;00mfunc\u001b[39m.\u001b[39m\u001b[39m__name__\u001b[39m\u001b[39m}\u001b[39;00m\u001b[39m()\u001b[39m\u001b[39m\"\u001b[39m)\n\u001b[1;32m--> 456\u001b[0m \u001b[39mreturn\u001b[39;00m func(\u001b[39m*\u001b[39margs, \u001b[39m*\u001b[39m\u001b[39m*\u001b[39mkwargs)\n",
      "File \u001b[1;32md:\\Anaconda\\lib\\site-packages\\matplotlib\\pyplot.py:2640\u001b[0m, in \u001b[0;36mimshow\u001b[1;34m(X, cmap, norm, aspect, interpolation, alpha, vmin, vmax, origin, extent, interpolation_stage, filternorm, filterrad, resample, url, data, **kwargs)\u001b[0m\n\u001b[0;32m   2634\u001b[0m \u001b[39m@_copy_docstring_and_deprecators\u001b[39m(Axes\u001b[39m.\u001b[39mimshow)\n\u001b[0;32m   2635\u001b[0m \u001b[39mdef\u001b[39;00m \u001b[39mimshow\u001b[39m(\n\u001b[0;32m   2636\u001b[0m         X, cmap\u001b[39m=\u001b[39m\u001b[39mNone\u001b[39;00m, norm\u001b[39m=\u001b[39m\u001b[39mNone\u001b[39;00m, aspect\u001b[39m=\u001b[39m\u001b[39mNone\u001b[39;00m, interpolation\u001b[39m=\u001b[39m\u001b[39mNone\u001b[39;00m,\n\u001b[0;32m   2637\u001b[0m         alpha\u001b[39m=\u001b[39m\u001b[39mNone\u001b[39;00m, vmin\u001b[39m=\u001b[39m\u001b[39mNone\u001b[39;00m, vmax\u001b[39m=\u001b[39m\u001b[39mNone\u001b[39;00m, origin\u001b[39m=\u001b[39m\u001b[39mNone\u001b[39;00m, extent\u001b[39m=\u001b[39m\u001b[39mNone\u001b[39;00m, \u001b[39m*\u001b[39m,\n\u001b[0;32m   2638\u001b[0m         interpolation_stage\u001b[39m=\u001b[39m\u001b[39mNone\u001b[39;00m, filternorm\u001b[39m=\u001b[39m\u001b[39mTrue\u001b[39;00m, filterrad\u001b[39m=\u001b[39m\u001b[39m4.0\u001b[39m,\n\u001b[0;32m   2639\u001b[0m         resample\u001b[39m=\u001b[39m\u001b[39mNone\u001b[39;00m, url\u001b[39m=\u001b[39m\u001b[39mNone\u001b[39;00m, data\u001b[39m=\u001b[39m\u001b[39mNone\u001b[39;00m, \u001b[39m*\u001b[39m\u001b[39m*\u001b[39mkwargs):\n\u001b[1;32m-> 2640\u001b[0m     __ret \u001b[39m=\u001b[39m gca()\u001b[39m.\u001b[39mimshow(\n\u001b[0;32m   2641\u001b[0m         X, cmap\u001b[39m=\u001b[39mcmap, norm\u001b[39m=\u001b[39mnorm, aspect\u001b[39m=\u001b[39maspect,\n\u001b[0;32m   2642\u001b[0m         interpolation\u001b[39m=\u001b[39minterpolation, alpha\u001b[39m=\u001b[39malpha, vmin\u001b[39m=\u001b[39mvmin,\n\u001b[0;32m   2643\u001b[0m         vmax\u001b[39m=\u001b[39mvmax, origin\u001b[39m=\u001b[39morigin, extent\u001b[39m=\u001b[39mextent,\n\u001b[0;32m   2644\u001b[0m         interpolation_stage\u001b[39m=\u001b[39minterpolation_stage,\n\u001b[0;32m   2645\u001b[0m         filternorm\u001b[39m=\u001b[39mfilternorm, filterrad\u001b[39m=\u001b[39mfilterrad, resample\u001b[39m=\u001b[39mresample,\n\u001b[0;32m   2646\u001b[0m         url\u001b[39m=\u001b[39murl, \u001b[39m*\u001b[39m\u001b[39m*\u001b[39m({\u001b[39m\"\u001b[39m\u001b[39mdata\u001b[39m\u001b[39m\"\u001b[39m: data} \u001b[39mif\u001b[39;00m data \u001b[39mis\u001b[39;00m \u001b[39mnot\u001b[39;00m \u001b[39mNone\u001b[39;00m \u001b[39melse\u001b[39;00m {}),\n\u001b[0;32m   2647\u001b[0m         \u001b[39m*\u001b[39m\u001b[39m*\u001b[39mkwargs)\n\u001b[0;32m   2648\u001b[0m     sci(__ret)\n\u001b[0;32m   2649\u001b[0m     \u001b[39mreturn\u001b[39;00m __ret\n",
      "File \u001b[1;32md:\\Anaconda\\lib\\site-packages\\matplotlib\\_api\\deprecation.py:456\u001b[0m, in \u001b[0;36mmake_keyword_only.<locals>.wrapper\u001b[1;34m(*args, **kwargs)\u001b[0m\n\u001b[0;32m    450\u001b[0m \u001b[39mif\u001b[39;00m \u001b[39mlen\u001b[39m(args) \u001b[39m>\u001b[39m name_idx:\n\u001b[0;32m    451\u001b[0m     warn_deprecated(\n\u001b[0;32m    452\u001b[0m         since, message\u001b[39m=\u001b[39m\u001b[39m\"\u001b[39m\u001b[39mPassing the \u001b[39m\u001b[39m%(name)s\u001b[39;00m\u001b[39m \u001b[39m\u001b[39m%(obj_type)s\u001b[39;00m\u001b[39m \u001b[39m\u001b[39m\"\u001b[39m\n\u001b[0;32m    453\u001b[0m         \u001b[39m\"\u001b[39m\u001b[39mpositionally is deprecated since Matplotlib \u001b[39m\u001b[39m%(since)s\u001b[39;00m\u001b[39m; the \u001b[39m\u001b[39m\"\u001b[39m\n\u001b[0;32m    454\u001b[0m         \u001b[39m\"\u001b[39m\u001b[39mparameter will become keyword-only \u001b[39m\u001b[39m%(removal)s\u001b[39;00m\u001b[39m.\u001b[39m\u001b[39m\"\u001b[39m,\n\u001b[0;32m    455\u001b[0m         name\u001b[39m=\u001b[39mname, obj_type\u001b[39m=\u001b[39m\u001b[39mf\u001b[39m\u001b[39m\"\u001b[39m\u001b[39mparameter of \u001b[39m\u001b[39m{\u001b[39;00mfunc\u001b[39m.\u001b[39m\u001b[39m__name__\u001b[39m\u001b[39m}\u001b[39;00m\u001b[39m()\u001b[39m\u001b[39m\"\u001b[39m)\n\u001b[1;32m--> 456\u001b[0m \u001b[39mreturn\u001b[39;00m func(\u001b[39m*\u001b[39margs, \u001b[39m*\u001b[39m\u001b[39m*\u001b[39mkwargs)\n",
      "File \u001b[1;32md:\\Anaconda\\lib\\site-packages\\matplotlib\\__init__.py:1412\u001b[0m, in \u001b[0;36m_preprocess_data.<locals>.inner\u001b[1;34m(ax, data, *args, **kwargs)\u001b[0m\n\u001b[0;32m   1409\u001b[0m \u001b[39m@functools\u001b[39m\u001b[39m.\u001b[39mwraps(func)\n\u001b[0;32m   1410\u001b[0m \u001b[39mdef\u001b[39;00m \u001b[39minner\u001b[39m(ax, \u001b[39m*\u001b[39margs, data\u001b[39m=\u001b[39m\u001b[39mNone\u001b[39;00m, \u001b[39m*\u001b[39m\u001b[39m*\u001b[39mkwargs):\n\u001b[0;32m   1411\u001b[0m     \u001b[39mif\u001b[39;00m data \u001b[39mis\u001b[39;00m \u001b[39mNone\u001b[39;00m:\n\u001b[1;32m-> 1412\u001b[0m         \u001b[39mreturn\u001b[39;00m func(ax, \u001b[39m*\u001b[39m\u001b[39mmap\u001b[39m(sanitize_sequence, args), \u001b[39m*\u001b[39m\u001b[39m*\u001b[39mkwargs)\n\u001b[0;32m   1414\u001b[0m     bound \u001b[39m=\u001b[39m new_sig\u001b[39m.\u001b[39mbind(ax, \u001b[39m*\u001b[39margs, \u001b[39m*\u001b[39m\u001b[39m*\u001b[39mkwargs)\n\u001b[0;32m   1415\u001b[0m     auto_label \u001b[39m=\u001b[39m (bound\u001b[39m.\u001b[39marguments\u001b[39m.\u001b[39mget(label_namer)\n\u001b[0;32m   1416\u001b[0m                   \u001b[39mor\u001b[39;00m bound\u001b[39m.\u001b[39mkwargs\u001b[39m.\u001b[39mget(label_namer))\n",
      "File \u001b[1;32md:\\Anaconda\\lib\\site-packages\\matplotlib\\axes\\_axes.py:5488\u001b[0m, in \u001b[0;36mAxes.imshow\u001b[1;34m(self, X, cmap, norm, aspect, interpolation, alpha, vmin, vmax, origin, extent, interpolation_stage, filternorm, filterrad, resample, url, **kwargs)\u001b[0m\n\u001b[0;32m   5481\u001b[0m \u001b[39mself\u001b[39m\u001b[39m.\u001b[39mset_aspect(aspect)\n\u001b[0;32m   5482\u001b[0m im \u001b[39m=\u001b[39m mimage\u001b[39m.\u001b[39mAxesImage(\u001b[39mself\u001b[39m, cmap, norm, interpolation,\n\u001b[0;32m   5483\u001b[0m                       origin, extent, filternorm\u001b[39m=\u001b[39mfilternorm,\n\u001b[0;32m   5484\u001b[0m                       filterrad\u001b[39m=\u001b[39mfilterrad, resample\u001b[39m=\u001b[39mresample,\n\u001b[0;32m   5485\u001b[0m                       interpolation_stage\u001b[39m=\u001b[39minterpolation_stage,\n\u001b[0;32m   5486\u001b[0m                       \u001b[39m*\u001b[39m\u001b[39m*\u001b[39mkwargs)\n\u001b[1;32m-> 5488\u001b[0m im\u001b[39m.\u001b[39;49mset_data(X)\n\u001b[0;32m   5489\u001b[0m im\u001b[39m.\u001b[39mset_alpha(alpha)\n\u001b[0;32m   5490\u001b[0m \u001b[39mif\u001b[39;00m im\u001b[39m.\u001b[39mget_clip_path() \u001b[39mis\u001b[39;00m \u001b[39mNone\u001b[39;00m:\n\u001b[0;32m   5491\u001b[0m     \u001b[39m# image does not already have clipping set, clip to axes patch\u001b[39;00m\n",
      "File \u001b[1;32md:\\Anaconda\\lib\\site-packages\\matplotlib\\image.py:706\u001b[0m, in \u001b[0;36m_ImageBase.set_data\u001b[1;34m(self, A)\u001b[0m\n\u001b[0;32m    702\u001b[0m \u001b[39mself\u001b[39m\u001b[39m.\u001b[39m_A \u001b[39m=\u001b[39m cbook\u001b[39m.\u001b[39msafe_masked_invalid(A, copy\u001b[39m=\u001b[39m\u001b[39mTrue\u001b[39;00m)\n\u001b[0;32m    704\u001b[0m \u001b[39mif\u001b[39;00m (\u001b[39mself\u001b[39m\u001b[39m.\u001b[39m_A\u001b[39m.\u001b[39mdtype \u001b[39m!=\u001b[39m np\u001b[39m.\u001b[39muint8 \u001b[39mand\u001b[39;00m\n\u001b[0;32m    705\u001b[0m         \u001b[39mnot\u001b[39;00m np\u001b[39m.\u001b[39mcan_cast(\u001b[39mself\u001b[39m\u001b[39m.\u001b[39m_A\u001b[39m.\u001b[39mdtype, \u001b[39mfloat\u001b[39m, \u001b[39m\"\u001b[39m\u001b[39msame_kind\u001b[39m\u001b[39m\"\u001b[39m)):\n\u001b[1;32m--> 706\u001b[0m     \u001b[39mraise\u001b[39;00m \u001b[39mTypeError\u001b[39;00m(\u001b[39m\"\u001b[39m\u001b[39mImage data of dtype \u001b[39m\u001b[39m{}\u001b[39;00m\u001b[39m cannot be converted to \u001b[39m\u001b[39m\"\u001b[39m\n\u001b[0;32m    707\u001b[0m                     \u001b[39m\"\u001b[39m\u001b[39mfloat\u001b[39m\u001b[39m\"\u001b[39m\u001b[39m.\u001b[39mformat(\u001b[39mself\u001b[39m\u001b[39m.\u001b[39m_A\u001b[39m.\u001b[39mdtype))\n\u001b[0;32m    709\u001b[0m \u001b[39mif\u001b[39;00m \u001b[39mself\u001b[39m\u001b[39m.\u001b[39m_A\u001b[39m.\u001b[39mndim \u001b[39m==\u001b[39m \u001b[39m3\u001b[39m \u001b[39mand\u001b[39;00m \u001b[39mself\u001b[39m\u001b[39m.\u001b[39m_A\u001b[39m.\u001b[39mshape[\u001b[39m-\u001b[39m\u001b[39m1\u001b[39m] \u001b[39m==\u001b[39m \u001b[39m1\u001b[39m:\n\u001b[0;32m    710\u001b[0m     \u001b[39m# If just one dimension assume scalar and apply colormap\u001b[39;00m\n\u001b[0;32m    711\u001b[0m     \u001b[39mself\u001b[39m\u001b[39m.\u001b[39m_A \u001b[39m=\u001b[39m \u001b[39mself\u001b[39m\u001b[39m.\u001b[39m_A[:, :, \u001b[39m0\u001b[39m]\n",
      "\u001b[1;31mTypeError\u001b[0m: Image data of dtype <U13 cannot be converted to float"
     ]
    },
    {
     "data": {
      "image/png": "[encoded data removed]",
      "text/plain": [
       "<Figure size 432x288 with 1 Axes>"
      ]
     },
     "metadata": {
      "needs_background": "light"
     },
     "output_type": "display_data"
    }
   ],
   "source": [
    "plt.imshow(\"img/img01.png\")"
   ]
  },
  {
   "cell_type": "code",
   "execution_count": null,
   "metadata": {},
   "outputs": [],
   "source": []
  }
 ],
 "metadata": {
  "kernelspec": {
   "display_name": "Python 3.9.12 ('base')",
   "language": "python",
   "name": "python3"
  },
  "language_info": {
   "codemirror_mode": {
    "name": "ipython",
    "version": 3
   },
   "file_extension": ".py",
   "mimetype": "text/x-python",
   "name": "python",
   "nbconvert_exporter": "python",
   "pygments_lexer": "ipython3",
   "version": "3.9.12"
  },
  "orig_nbformat": 4,
  "vscode": {
   "interpreter": {
    "hash": "88279d2366fe020547cde40dd65aa0e3aa662a6ec1f3ca12d88834876c85e1a6"
   }
  }
 },
 "nbformat": 4,
 "nbformat_minor": 2
}
